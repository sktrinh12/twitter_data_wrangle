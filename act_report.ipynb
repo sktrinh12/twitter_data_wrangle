{
 "cells": [
  {
   "cell_type": "markdown",
   "metadata": {},
   "source": [
    "### @WeRateDogs dog rating heatmap\n",
    "\n",
    "The master dataset (`df_merge`) was cleaned and then filtered for selected columns to create a new pandas dataframe called `plot_df` that was visualised using the `Bokeh` library. Some random labels for each cell of the heatmap was generated and appended to `plot_df`. A custom hovertool using html and css was written to display all of the content for each row, i.e. `retweet_count`, `tweet_id`, `dog_stage`, etc. In any of the screenshots one can see the mouse hover over a cell and the data pop up. The heatmap shows that most dogs were given an average rating, but because the unique rating system has a higher numerator than denominator, the rating feels inflated or generous. However, after normalising the value, it seems medicore. Only a handful of dogs received stellar ratings, one had a rating of around 177 (1776/10). This one is by far the highest. The colours of the heatmap show the given rating. The dark blue colour is indicative of a good rating, around 170. Contrary, a light greyish colour is indicative of an below average rating. Because of the unique rating system, the values inputted for the colourbar were manually entered which is why there is no continuous range of values for the colourbar. The ordering of the heatmap is highest ranking to lowest, so from top-left is highest (image of patriotic Atticus), and bottom right is lowest (a image of a skyscrapper with a rating of 0/10 or 0). A rating of 0.6 to 0.7 is the break-off where the colours change. So the last cell with the light-orange/yellowish colour is at 0.7, and thereafter (descending) the colour transitions to grey. Rankings that are higher than 1 show a darker orangeish colour. The ranking number was obtained by simply adjusting for any `ranking_denominator` value that is not 10 and using that factor to increase or decrease the `ranking_numerator`. This `float` value was used for the final ranking of the heatmap. Morever, a `ipywidget` was used to allow the user to select what type of metric to rank the dataset. the `ipywidget` is a drop-down menu that has three options (1) ranking (2) retweet count and (3) favourite count. Selecting any of the metrics will re-plot the heatmap within `jupyter notebooks`. Please ensure the `Bokeh` library is installed.\n",
    "\n",
    "##### Screenshot 1 showing `rating` metric:\n",
    "\n",
    "![screenshot](Screen_3.png \"Screenshot of Heatmap_1\")\n",
    "\n",
    "\n",
    "##### Screenshot 2 showing `favourite` metric:\n",
    "\n",
    "![screenshot](Screen_2.png \"Screenshot of Heatmap_2\")\n",
    "\n",
    "\n",
    "##### Screenshot 3 showing `retweet` metric:\n",
    "\n",
    "![screenshot](Screen_1.png \"Screenshot of Heatmap_3\")"
   ]
  }
 ],
 "metadata": {
  "kernelspec": {
   "display_name": "py37",
   "language": "python",
   "name": "py37"
  },
  "language_info": {
   "codemirror_mode": {
    "name": "ipython",
    "version": 3
   },
   "file_extension": ".py",
   "mimetype": "text/x-python",
   "name": "python",
   "nbconvert_exporter": "python",
   "pygments_lexer": "ipython3",
   "version": "3.7.3"
  }
 },
 "nbformat": 4,
 "nbformat_minor": 4
}
